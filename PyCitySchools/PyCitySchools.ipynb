{
 "cells": [
  {
   "cell_type": "markdown",
   "metadata": {},
   "source": [
    "# PyCity Schools Analysis\n",
    "\n",
    "- Your analysis here\n",
    "  \n",
    "---"
   ]
  },
  {
   "cell_type": "code",
   "execution_count": 1,
   "metadata": {},
   "outputs": [
    {
     "data": {
      "text/html": [
       "<div>\n",
       "<style scoped>\n",
       "    .dataframe tbody tr th:only-of-type {\n",
       "        vertical-align: middle;\n",
       "    }\n",
       "\n",
       "    .dataframe tbody tr th {\n",
       "        vertical-align: top;\n",
       "    }\n",
       "\n",
       "    .dataframe thead th {\n",
       "        text-align: right;\n",
       "    }\n",
       "</style>\n",
       "<table border=\"1\" class=\"dataframe\">\n",
       "  <thead>\n",
       "    <tr style=\"text-align: right;\">\n",
       "      <th></th>\n",
       "      <th>Student ID</th>\n",
       "      <th>student_name</th>\n",
       "      <th>gender</th>\n",
       "      <th>grade</th>\n",
       "      <th>school_name</th>\n",
       "      <th>reading_score</th>\n",
       "      <th>math_score</th>\n",
       "      <th>School ID</th>\n",
       "      <th>type</th>\n",
       "      <th>size</th>\n",
       "      <th>budget</th>\n",
       "    </tr>\n",
       "  </thead>\n",
       "  <tbody>\n",
       "    <tr>\n",
       "      <th>0</th>\n",
       "      <td>0</td>\n",
       "      <td>Paul Bradley</td>\n",
       "      <td>M</td>\n",
       "      <td>9th</td>\n",
       "      <td>Huang High School</td>\n",
       "      <td>66</td>\n",
       "      <td>79</td>\n",
       "      <td>0</td>\n",
       "      <td>District</td>\n",
       "      <td>2917</td>\n",
       "      <td>1910635</td>\n",
       "    </tr>\n",
       "    <tr>\n",
       "      <th>1</th>\n",
       "      <td>1</td>\n",
       "      <td>Victor Smith</td>\n",
       "      <td>M</td>\n",
       "      <td>12th</td>\n",
       "      <td>Huang High School</td>\n",
       "      <td>94</td>\n",
       "      <td>61</td>\n",
       "      <td>0</td>\n",
       "      <td>District</td>\n",
       "      <td>2917</td>\n",
       "      <td>1910635</td>\n",
       "    </tr>\n",
       "    <tr>\n",
       "      <th>2</th>\n",
       "      <td>2</td>\n",
       "      <td>Kevin Rodriguez</td>\n",
       "      <td>M</td>\n",
       "      <td>12th</td>\n",
       "      <td>Huang High School</td>\n",
       "      <td>90</td>\n",
       "      <td>60</td>\n",
       "      <td>0</td>\n",
       "      <td>District</td>\n",
       "      <td>2917</td>\n",
       "      <td>1910635</td>\n",
       "    </tr>\n",
       "    <tr>\n",
       "      <th>3</th>\n",
       "      <td>3</td>\n",
       "      <td>Dr. Richard Scott</td>\n",
       "      <td>M</td>\n",
       "      <td>12th</td>\n",
       "      <td>Huang High School</td>\n",
       "      <td>67</td>\n",
       "      <td>58</td>\n",
       "      <td>0</td>\n",
       "      <td>District</td>\n",
       "      <td>2917</td>\n",
       "      <td>1910635</td>\n",
       "    </tr>\n",
       "    <tr>\n",
       "      <th>4</th>\n",
       "      <td>4</td>\n",
       "      <td>Bonnie Ray</td>\n",
       "      <td>F</td>\n",
       "      <td>9th</td>\n",
       "      <td>Huang High School</td>\n",
       "      <td>97</td>\n",
       "      <td>84</td>\n",
       "      <td>0</td>\n",
       "      <td>District</td>\n",
       "      <td>2917</td>\n",
       "      <td>1910635</td>\n",
       "    </tr>\n",
       "  </tbody>\n",
       "</table>\n",
       "</div>"
      ],
      "text/plain": [
       "   Student ID       student_name gender grade        school_name  \\\n",
       "0           0       Paul Bradley      M   9th  Huang High School   \n",
       "1           1       Victor Smith      M  12th  Huang High School   \n",
       "2           2    Kevin Rodriguez      M  12th  Huang High School   \n",
       "3           3  Dr. Richard Scott      M  12th  Huang High School   \n",
       "4           4         Bonnie Ray      F   9th  Huang High School   \n",
       "\n",
       "   reading_score  math_score  School ID      type  size   budget  \n",
       "0             66          79          0  District  2917  1910635  \n",
       "1             94          61          0  District  2917  1910635  \n",
       "2             90          60          0  District  2917  1910635  \n",
       "3             67          58          0  District  2917  1910635  \n",
       "4             97          84          0  District  2917  1910635  "
      ]
     },
     "execution_count": 1,
     "metadata": {},
     "output_type": "execute_result"
    }
   ],
   "source": [
    "# Dependencies and Setup\n",
    "import pandas as pd\n",
    "from pathlib import Path\n",
    "\n",
    "# File to Load (Remember to Change These)\n",
    "school_data_to_load = Path(\"C:/Users/jasmi/OneDrive/Documents/Pandas Challenge files/Starter_Code/PyCitySchools/Resources/schools_complete.csv\")\n",
    "student_data_to_load = Path(\"C:/Users/jasmi/OneDrive/Documents/Pandas Challenge files/Starter_Code/PyCitySchools/Resources/students_complete.csv\")\n",
    "\n",
    "# Read School and Student Data File and store into Pandas DataFrames\n",
    "school_data = pd.read_csv(school_data_to_load)\n",
    "student_data = pd.read_csv(student_data_to_load)\n",
    "\n",
    "# Combine the data into a single dataset.  \n",
    "school_data_complete = pd.merge(student_data, school_data, how=\"left\", on=[\"school_name\", \"school_name\"])\n",
    "school_data_complete.head()"
   ]
  },
  {
   "cell_type": "markdown",
   "metadata": {},
   "source": [
    "## District Summary"
   ]
  },
  {
   "cell_type": "code",
   "execution_count": 2,
   "metadata": {},
   "outputs": [
    {
     "name": "stdout",
     "output_type": "stream",
     "text": [
      "15\n"
     ]
    }
   ],
   "source": [
    "# Calculate the total number of unique schools\n",
    "school_count = school_data_complete['School ID'].nunique()\n",
    "\n",
    "# Print the result\n",
    "print(school_count)\n"
   ]
  },
  {
   "cell_type": "code",
   "execution_count": 3,
   "metadata": {},
   "outputs": [
    {
     "name": "stdout",
     "output_type": "stream",
     "text": [
      "39170\n"
     ]
    }
   ],
   "source": [
    "# Calculate the total number of students\n",
    "student_count = len(school_data_complete)\n",
    "print(student_count)"
   ]
  },
  {
   "cell_type": "code",
   "execution_count": 4,
   "metadata": {},
   "outputs": [
    {
     "name": "stdout",
     "output_type": "stream",
     "text": [
      "24649428\n"
     ]
    }
   ],
   "source": [
    "# Calculate the total budget\n",
    "total_budget = school_data['budget'].sum()\n",
    "print(total_budget)"
   ]
  },
  {
   "cell_type": "code",
   "execution_count": 5,
   "metadata": {},
   "outputs": [
    {
     "name": "stdout",
     "output_type": "stream",
     "text": [
      "78.98537145774827\n"
     ]
    }
   ],
   "source": [
    "# Calculate the average math score\n",
    "average_math_score = school_data_complete['math_score'].mean()\n",
    "print(average_math_score)\n"
   ]
  },
  {
   "cell_type": "code",
   "execution_count": 6,
   "metadata": {},
   "outputs": [
    {
     "name": "stdout",
     "output_type": "stream",
     "text": [
      "81.87784018381414\n"
     ]
    }
   ],
   "source": [
    "\n",
    "average_reading_score = school_data_complete['reading_score'].mean()\n",
    "\n",
    "print(average_reading_score)"
   ]
  },
  {
   "cell_type": "code",
   "execution_count": 7,
   "metadata": {},
   "outputs": [
    {
     "name": "stdout",
     "output_type": "stream",
     "text": [
      "74.9808526933878\n"
     ]
    }
   ],
   "source": [
    "\n",
    "passing_math_count = school_data_complete[(school_data_complete[\"math_score\"] >= 70)].count()[\"student_name\"]\n",
    "\n",
    "\n",
    "passing_math_percentage = passing_math_count / float(student_count) * 100\n",
    "\n",
    "\n",
    "print(passing_math_percentage)"
   ]
  },
  {
   "cell_type": "code",
   "execution_count": 8,
   "metadata": {},
   "outputs": [
    {
     "name": "stdout",
     "output_type": "stream",
     "text": [
      "85.80546336482001\n"
     ]
    }
   ],
   "source": [
    "# Calculate the percentage of students who passed reading (hint: look at how the math percentage was calculated)  \n",
    "passing_reading_count = school_data_complete[(school_data_complete[\"reading_score\"] >= 70)].count()[\"student_name\"]\n",
    "\n",
    "\n",
    "passing_reading_percentage = passing_reading_count / float(student_count) * 100\n",
    "\n",
    "\n",
    "print(passing_reading_percentage)"
   ]
  },
  {
   "cell_type": "code",
   "execution_count": 9,
   "metadata": {},
   "outputs": [
    {
     "data": {
      "text/plain": [
       "65.17232575950983"
      ]
     },
     "execution_count": 9,
     "metadata": {},
     "output_type": "execute_result"
    }
   ],
   "source": [
    "# Use the following to calculate the percentage of students that passed math and reading\n",
    "passing_math_reading_count = school_data_complete[\n",
    "    (school_data_complete[\"math_score\"] >= 70) & (school_data_complete[\"reading_score\"] >= 70)\n",
    "].count()[\"student_name\"]\n",
    "overall_passing_rate = passing_math_reading_count /  float(student_count) * 100\n",
    "overall_passing_rate"
   ]
  },
  {
   "cell_type": "code",
   "execution_count": 9,
   "metadata": {},
   "outputs": [
    {
     "name": "stdout",
     "output_type": "stream",
     "text": [
      "   Total Schools Total Students    Total Budget  Average Math Score  \\\n",
      "0             15         39,170  $24,649,428.00           78.985371   \n",
      "\n",
      "   Average Reading Score  % Passing Math  % Passing Reading  % Overall Passing  \n",
      "0               81.87784       74.980853          85.805463          65.172326  \n"
     ]
    }
   ],
   "source": [
    "# Calculate the total number of schools\n",
    "total_schools = school_data_complete[\"school_name\"].nunique()\n",
    "\n",
    "# Calculate the total number of students\n",
    "total_students = school_data_complete[\"Student ID\"].nunique()\n",
    "\n",
    "# Calculate the total budget\n",
    "total_budget = school_data[\"budget\"].sum()\n",
    "\n",
    "# Calculate the average math score\n",
    "average_math_score = school_data_complete[\"math_score\"].mean()\n",
    "\n",
    "# Calculate the average reading score\n",
    "average_reading_score = school_data_complete[\"reading_score\"].mean()\n",
    "\n",
    "# Calculate the percentage of students who passed math\n",
    "passing_math_percentage = (school_data_complete[\"math_score\"] >= 70).mean() * 100\n",
    "\n",
    "# Calculate the percentage of students who passed reading\n",
    "passing_reading_percentage = (school_data_complete[\"reading_score\"] >= 70).mean() * 100\n",
    "\n",
    "# Calculate the overall passing percentage (both math and reading)\n",
    "overall_passing_percentage = ((school_data_complete[\"math_score\"] >= 70) & (school_data_complete[\"reading_score\"] >= 70)).mean() * 100\n",
    "\n",
    "# Create the district summary DataFrame\n",
    "district_summary = pd.DataFrame({\n",
    "    \"Total Schools\": [total_schools],\n",
    "    \"Total Students\": [total_students],\n",
    "    \"Total Budget\": [total_budget],\n",
    "    \"Average Math Score\": [average_math_score],\n",
    "    \"Average Reading Score\": [average_reading_score],\n",
    "    \"% Passing Math\": [passing_math_percentage],\n",
    "    \"% Passing Reading\": [passing_reading_percentage],\n",
    "    \"% Overall Passing\": [overall_passing_percentage]\n",
    "})\n",
    "\n",
    "# Formatting\n",
    "district_summary[\"Total Students\"] = district_summary[\"Total Students\"].map(\"{:,}\".format)\n",
    "district_summary[\"Total Budget\"] = district_summary[\"Total Budget\"].map(\"${:,.2f}\".format)\n",
    "\n",
    "# Display the DataFrame\n",
    "print(district_summary)\n"
   ]
  },
  {
   "cell_type": "markdown",
   "metadata": {},
   "source": [
    "## School Summary"
   ]
  },
  {
   "cell_type": "code",
   "execution_count": 10,
   "metadata": {},
   "outputs": [
    {
     "name": "stdout",
     "output_type": "stream",
     "text": [
      "['District' 'Charter']\n"
     ]
    }
   ],
   "source": [
    "# Use the code provided to select all of the school types\n",
    "school_types = school_data[\"type\"].unique()\n",
    "print(school_types)"
   ]
  },
  {
   "cell_type": "code",
   "execution_count": 11,
   "metadata": {
    "scrolled": true
   },
   "outputs": [
    {
     "name": "stdout",
     "output_type": "stream",
     "text": [
      "school_name\n",
      "Bailey High School       4976\n",
      "Cabrera High School      1858\n",
      "Figueroa High School     2949\n",
      "Ford High School         2739\n",
      "Griffin High School      1468\n",
      "Hernandez High School    4635\n",
      "Holden High School        427\n",
      "Huang High School        2917\n",
      "Johnson High School      4761\n",
      "Pena High School          962\n",
      "Rodriguez High School    3999\n",
      "Shelton High School      1761\n",
      "Thomas High School       1635\n",
      "Wilson High School       2283\n",
      "Wright High School       1800\n",
      "Name: Student ID, dtype: int64\n"
     ]
    }
   ],
   "source": [
    "# Calculate the total student count per school\n",
    "per_school_counts = school_data_complete.groupby(\"school_name\").count()[\"Student ID\"]\n",
    "print(per_school_counts)"
   ]
  },
  {
   "cell_type": "code",
   "execution_count": 12,
   "metadata": {},
   "outputs": [
    {
     "name": "stdout",
     "output_type": "stream",
     "text": [
      "school_name\n",
      "Huang High School        1910635\n",
      "Figueroa High School     1884411\n",
      "Shelton High School      1056600\n",
      "Hernandez High School    3022020\n",
      "Griffin High School       917500\n",
      "Wilson High School       1319574\n",
      "Cabrera High School      1081356\n",
      "Bailey High School       3124928\n",
      "Holden High School        248087\n",
      "Pena High School          585858\n",
      "Wright High School       1049400\n",
      "Rodriguez High School    2547363\n",
      "Johnson High School      3094650\n",
      "Ford High School         1763916\n",
      "Thomas High School       1043130\n",
      "Name: budget, dtype: int64\n",
      "school_name\n",
      "Huang High School        655.0\n",
      "Figueroa High School     639.0\n",
      "Shelton High School      600.0\n",
      "Hernandez High School    652.0\n",
      "Griffin High School      625.0\n",
      "Wilson High School       578.0\n",
      "Cabrera High School      582.0\n",
      "Bailey High School       628.0\n",
      "Holden High School       581.0\n",
      "Pena High School         609.0\n",
      "Wright High School       583.0\n",
      "Rodriguez High School    637.0\n",
      "Johnson High School      650.0\n",
      "Ford High School         644.0\n",
      "Thomas High School       638.0\n",
      "dtype: float64\n"
     ]
    }
   ],
   "source": [
    "# Calculate the total school budget and per capita spending per school\n",
    "per_school_budget = school_data.set_index(\"school_name\")[\"budget\"]\n",
    "\n",
    "per_school_capita = per_school_budget / school_data.set_index(\"school_name\")[\"size\"]\n",
    "\n",
    "print(per_school_budget)\n",
    "print(per_school_capita)"
   ]
  },
  {
   "cell_type": "code",
   "execution_count": 13,
   "metadata": {},
   "outputs": [
    {
     "name": "stdout",
     "output_type": "stream",
     "text": [
      "school_name\n",
      "Bailey High School       77.048432\n",
      "Cabrera High School      83.061895\n",
      "Figueroa High School     76.711767\n",
      "Ford High School         77.102592\n",
      "Griffin High School      83.351499\n",
      "Hernandez High School    77.289752\n",
      "Holden High School       83.803279\n",
      "Huang High School        76.629414\n",
      "Johnson High School      77.072464\n",
      "Pena High School         83.839917\n",
      "Rodriguez High School    76.842711\n",
      "Shelton High School      83.359455\n",
      "Thomas High School       83.418349\n",
      "Wilson High School       83.274201\n",
      "Wright High School       83.682222\n",
      "Name: math_score, dtype: float64\n",
      "school_name\n",
      "Bailey High School       81.033963\n",
      "Cabrera High School      83.975780\n",
      "Figueroa High School     81.158020\n",
      "Ford High School         80.746258\n",
      "Griffin High School      83.816757\n",
      "Hernandez High School    80.934412\n",
      "Holden High School       83.814988\n",
      "Huang High School        81.182722\n",
      "Johnson High School      80.966394\n",
      "Pena High School         84.044699\n",
      "Rodriguez High School    80.744686\n",
      "Shelton High School      83.725724\n",
      "Thomas High School       83.848930\n",
      "Wilson High School       83.989488\n",
      "Wright High School       83.955000\n",
      "Name: reading_score, dtype: float64\n"
     ]
    }
   ],
   "source": [
    "# Calculate the average math score per school\n",
    "per_school_math = school_data_complete.groupby(\"school_name\")[\"math_score\"].mean()\n",
    "\n",
    "per_school_reading = school_data_complete.groupby(\"school_name\")[\"reading_score\"].mean()\n",
    "\n",
    "print(per_school_math)\n",
    "print(per_school_reading)"
   ]
  },
  {
   "cell_type": "code",
   "execution_count": 14,
   "metadata": {},
   "outputs": [
    {
     "name": "stdout",
     "output_type": "stream",
     "text": [
      "       Student ID     student_name gender grade         school_name  \\\n",
      "0               0     Paul Bradley      M   9th   Huang High School   \n",
      "4               4       Bonnie Ray      F   9th   Huang High School   \n",
      "5               5    Bryan Miranda      M   9th   Huang High School   \n",
      "6               6    Sheena Carter      F  11th   Huang High School   \n",
      "8               8     Michael Roth      M  10th   Huang High School   \n",
      "...           ...              ...    ...   ...                 ...   \n",
      "39165       39165     Donna Howard      F  12th  Thomas High School   \n",
      "39166       39166        Dawn Bell      F  10th  Thomas High School   \n",
      "39167       39167   Rebecca Tanner      F   9th  Thomas High School   \n",
      "39168       39168     Desiree Kidd      F  10th  Thomas High School   \n",
      "39169       39169  Carolyn Jackson      F  11th  Thomas High School   \n",
      "\n",
      "       reading_score  math_score  School ID      type  size   budget  \n",
      "0                 66          79          0  District  2917  1910635  \n",
      "4                 97          84          0  District  2917  1910635  \n",
      "5                 94          94          0  District  2917  1910635  \n",
      "6                 82          80          0  District  2917  1910635  \n",
      "8                 95          87          0  District  2917  1910635  \n",
      "...              ...         ...        ...       ...   ...      ...  \n",
      "39165             99          90         14   Charter  1635  1043130  \n",
      "39166             95          70         14   Charter  1635  1043130  \n",
      "39167             73          84         14   Charter  1635  1043130  \n",
      "39168             99          90         14   Charter  1635  1043130  \n",
      "39169             95          75         14   Charter  1635  1043130  \n",
      "\n",
      "[29370 rows x 11 columns]\n",
      "school_name\n",
      "Bailey High School       3318\n",
      "Cabrera High School      1749\n",
      "Figueroa High School     1946\n",
      "Ford High School         1871\n",
      "Griffin High School      1371\n",
      "Hernandez High School    3094\n",
      "Holden High School        395\n",
      "Huang High School        1916\n",
      "Johnson High School      3145\n",
      "Pena High School          910\n",
      "Rodriguez High School    2654\n",
      "Shelton High School      1653\n",
      "Thomas High School       1525\n",
      "Wilson High School       2143\n",
      "Wright High School       1680\n",
      "Name: Student ID, dtype: int64\n"
     ]
    }
   ],
   "source": [
    "# Calculate the number of students per school with math scores of 70 or higher\n",
    "students_passing_math = school_data_complete[school_data_complete[\"math_score\"] >= 70]\n",
    "\n",
    "school_students_passing_math = students_passing_math.groupby(\"school_name\").count()[\"Student ID\"]\n",
    "\n",
    "print(students_passing_math)\n",
    "print(school_students_passing_math)\n"
   ]
  },
  {
   "cell_type": "code",
   "execution_count": 15,
   "metadata": {},
   "outputs": [
    {
     "name": "stdout",
     "output_type": "stream",
     "text": [
      "       Student ID     student_name gender grade         school_name  \\\n",
      "0               0     Paul Bradley      M   9th   Huang High School   \n",
      "4               4       Bonnie Ray      F   9th   Huang High School   \n",
      "5               5    Bryan Miranda      M   9th   Huang High School   \n",
      "6               6    Sheena Carter      F  11th   Huang High School   \n",
      "8               8     Michael Roth      M  10th   Huang High School   \n",
      "...           ...              ...    ...   ...                 ...   \n",
      "39165       39165     Donna Howard      F  12th  Thomas High School   \n",
      "39166       39166        Dawn Bell      F  10th  Thomas High School   \n",
      "39167       39167   Rebecca Tanner      F   9th  Thomas High School   \n",
      "39168       39168     Desiree Kidd      F  10th  Thomas High School   \n",
      "39169       39169  Carolyn Jackson      F  11th  Thomas High School   \n",
      "\n",
      "       reading_score  math_score  School ID      type  size   budget  \n",
      "0                 66          79          0  District  2917  1910635  \n",
      "4                 97          84          0  District  2917  1910635  \n",
      "5                 94          94          0  District  2917  1910635  \n",
      "6                 82          80          0  District  2917  1910635  \n",
      "8                 95          87          0  District  2917  1910635  \n",
      "...              ...         ...        ...       ...   ...      ...  \n",
      "39165             99          90         14   Charter  1635  1043130  \n",
      "39166             95          70         14   Charter  1635  1043130  \n",
      "39167             73          84         14   Charter  1635  1043130  \n",
      "39168             99          90         14   Charter  1635  1043130  \n",
      "39169             95          75         14   Charter  1635  1043130  \n",
      "\n",
      "[29370 rows x 11 columns]\n",
      "school_name\n",
      "Bailey High School       3318\n",
      "Cabrera High School      1749\n",
      "Figueroa High School     1946\n",
      "Ford High School         1871\n",
      "Griffin High School      1371\n",
      "Hernandez High School    3094\n",
      "Holden High School        395\n",
      "Huang High School        1916\n",
      "Johnson High School      3145\n",
      "Pena High School          910\n",
      "Rodriguez High School    2654\n",
      "Shelton High School      1653\n",
      "Thomas High School       1525\n",
      "Wilson High School       2143\n",
      "Wright High School       1680\n",
      "Name: Student ID, dtype: int64\n"
     ]
    }
   ],
   "source": [
    "# Filter the DataFrame to include only students with math scores of 70 or higher\n",
    "students_passing_math = school_data_complete[school_data_complete[\"math_score\"] >= 70]\n",
    "\n",
    "# Calculate the number of students passing math per school\n",
    "school_students_passing_math = students_passing_math.groupby(\"school_name\").count()[\"Student ID\"]\n",
    "\n",
    "# Print the results\n",
    "print(students_passing_math)\n",
    "print(school_students_passing_math)\n"
   ]
  },
  {
   "cell_type": "code",
   "execution_count": 21,
   "metadata": {},
   "outputs": [],
   "source": [
    "# Use the provided code to calculate the number of students per school that passed both math and reading with scores of 70 or higher\n",
    "students_passing_math_and_reading = school_data_complete[\n",
    "    (school_data_complete[\"reading_score\"] >= 70) & (school_data_complete[\"math_score\"] >= 70)\n",
    "]\n",
    "school_students_passing_math_and_reading = students_passing_math_and_reading.groupby([\"school_name\"]).size()"
   ]
  },
  {
   "cell_type": "code",
   "execution_count": 24,
   "metadata": {},
   "outputs": [],
   "source": [
    "per_school_passing_math = school_students_passing_math / per_school_counts * 100\n",
    "per_school_passing_reading = school_students_passing_math_and_reading / per_school_counts * 100\n",
    "overall_passing_rate = school_students_passing_math_and_reading / per_school_counts * 100"
   ]
  },
  {
   "cell_type": "code",
   "execution_count": 26,
   "metadata": {},
   "outputs": [
    {
     "name": "stdout",
     "output_type": "stream",
     "text": [
      "                       Total Students Total School Budget Per Student Budget  \\\n",
      "school_name                                                                    \n",
      "Bailey High School               4976       $3,124,928.00            $628.00   \n",
      "Cabrera High School              1858       $1,081,356.00            $582.00   \n",
      "Figueroa High School             2949       $1,884,411.00            $639.00   \n",
      "Ford High School                 2739       $1,763,916.00            $644.00   \n",
      "Griffin High School              1468         $917,500.00            $625.00   \n",
      "Hernandez High School            4635       $3,022,020.00            $652.00   \n",
      "Holden High School                427         $248,087.00            $581.00   \n",
      "Huang High School                2917       $1,910,635.00            $655.00   \n",
      "Johnson High School              4761       $3,094,650.00            $650.00   \n",
      "Pena High School                  962         $585,858.00            $609.00   \n",
      "Rodriguez High School            3999       $2,547,363.00            $637.00   \n",
      "Shelton High School              1761       $1,056,600.00            $600.00   \n",
      "Thomas High School               1635       $1,043,130.00            $638.00   \n",
      "Wilson High School               2283       $1,319,574.00            $578.00   \n",
      "Wright High School               1800       $1,049,400.00            $583.00   \n",
      "\n",
      "                       Average Math Score  Average Reading Score  \\\n",
      "school_name                                                        \n",
      "Bailey High School              77.048432              81.033963   \n",
      "Cabrera High School             83.061895              83.975780   \n",
      "Figueroa High School            76.711767              81.158020   \n",
      "Ford High School                77.102592              80.746258   \n",
      "Griffin High School             83.351499              83.816757   \n",
      "Hernandez High School           77.289752              80.934412   \n",
      "Holden High School              83.803279              83.814988   \n",
      "Huang High School               76.629414              81.182722   \n",
      "Johnson High School             77.072464              80.966394   \n",
      "Pena High School                83.839917              84.044699   \n",
      "Rodriguez High School           76.842711              80.744686   \n",
      "Shelton High School             83.359455              83.725724   \n",
      "Thomas High School              83.418349              83.848930   \n",
      "Wilson High School              83.274201              83.989488   \n",
      "Wright High School              83.682222              83.955000   \n",
      "\n",
      "                       % Passing Math  % Passing Reading  % Overall Passing  \n",
      "school_name                                                                  \n",
      "Bailey High School          66.680064          54.642283          54.642283  \n",
      "Cabrera High School         94.133477          91.334769          91.334769  \n",
      "Figueroa High School        65.988471          53.204476          53.204476  \n",
      "Ford High School            68.309602          54.289887          54.289887  \n",
      "Griffin High School         93.392371          90.599455          90.599455  \n",
      "Hernandez High School       66.752967          53.527508          53.527508  \n",
      "Holden High School          92.505855          89.227166          89.227166  \n",
      "Huang High School           65.683922          53.513884          53.513884  \n",
      "Johnson High School         66.057551          53.539172          53.539172  \n",
      "Pena High School            94.594595          90.540541          90.540541  \n",
      "Rodriguez High School       66.366592          52.988247          52.988247  \n",
      "Shelton High School         93.867121          89.892107          89.892107  \n",
      "Thomas High School          93.272171          90.948012          90.948012  \n",
      "Wilson High School          93.867718          90.582567          90.582567  \n",
      "Wright High School          93.333333          90.333333          90.333333  \n"
     ]
    }
   ],
   "source": [
    "# Create the per_school_summary DataFrame\n",
    "per_school_summary = pd.DataFrame({\n",
    "    \"Total Students\": per_school_counts,\n",
    "    \"Total School Budget\": per_school_budget,\n",
    "    \"Per Student Budget\": per_school_capita,\n",
    "    \"Average Math Score\": per_school_math,\n",
    "    \"Average Reading Score\": per_school_reading,\n",
    "    \"% Passing Math\": per_school_passing_math,\n",
    "    \"% Passing Reading\": per_school_passing_reading,\n",
    "    \"% Overall Passing\": overall_passing_rate\n",
    "})\n",
    "\n",
    "\n",
    "per_school_summary[\"Total School Budget\"] = per_school_summary[\"Total School Budget\"].map(\"${:,.2f}\".format)\n",
    "per_school_summary[\"Per Student Budget\"] = per_school_summary[\"Per Student Budget\"].map(\"${:,.2f}\".format)\n",
    "\n",
    "\n",
    "print(per_school_summary)\n"
   ]
  },
  {
   "cell_type": "markdown",
   "metadata": {},
   "source": [
    "## Highest-Performing Schools (by % Overall Passing)"
   ]
  },
  {
   "cell_type": "code",
   "execution_count": 27,
   "metadata": {
    "scrolled": true
   },
   "outputs": [
    {
     "name": "stdout",
     "output_type": "stream",
     "text": [
      "                     Total Students Total School Budget Per Student Budget  \\\n",
      "school_name                                                                  \n",
      "Cabrera High School            1858       $1,081,356.00            $582.00   \n",
      "Thomas High School             1635       $1,043,130.00            $638.00   \n",
      "Griffin High School            1468         $917,500.00            $625.00   \n",
      "Wilson High School             2283       $1,319,574.00            $578.00   \n",
      "Pena High School                962         $585,858.00            $609.00   \n",
      "\n",
      "                     Average Math Score  Average Reading Score  \\\n",
      "school_name                                                      \n",
      "Cabrera High School           83.061895              83.975780   \n",
      "Thomas High School            83.418349              83.848930   \n",
      "Griffin High School           83.351499              83.816757   \n",
      "Wilson High School            83.274201              83.989488   \n",
      "Pena High School              83.839917              84.044699   \n",
      "\n",
      "                     % Passing Math  % Passing Reading  % Overall Passing  \n",
      "school_name                                                                \n",
      "Cabrera High School       94.133477          91.334769          91.334769  \n",
      "Thomas High School        93.272171          90.948012          90.948012  \n",
      "Griffin High School       93.392371          90.599455          90.599455  \n",
      "Wilson High School        93.867718          90.582567          90.582567  \n",
      "Pena High School          94.594595          90.540541          90.540541  \n"
     ]
    }
   ],
   "source": [
    "# Sort the schools by `% Overall Passing` in descending order and display the top 5 rows.\n",
    "top_schools = per_school_summary.sort_values(\"% Overall Passing\", ascending=False)\n",
    "\n",
    "print(top_schools.head(5))\n"
   ]
  },
  {
   "cell_type": "markdown",
   "metadata": {},
   "source": [
    "## Bottom Performing Schools (By % Overall Passing)"
   ]
  },
  {
   "cell_type": "code",
   "execution_count": 28,
   "metadata": {},
   "outputs": [
    {
     "name": "stdout",
     "output_type": "stream",
     "text": [
      "                       Total Students Total School Budget Per Student Budget  \\\n",
      "school_name                                                                    \n",
      "Rodriguez High School            3999       $2,547,363.00            $637.00   \n",
      "Figueroa High School             2949       $1,884,411.00            $639.00   \n",
      "Huang High School                2917       $1,910,635.00            $655.00   \n",
      "Hernandez High School            4635       $3,022,020.00            $652.00   \n",
      "Johnson High School              4761       $3,094,650.00            $650.00   \n",
      "\n",
      "                       Average Math Score  Average Reading Score  \\\n",
      "school_name                                                        \n",
      "Rodriguez High School           76.842711              80.744686   \n",
      "Figueroa High School            76.711767              81.158020   \n",
      "Huang High School               76.629414              81.182722   \n",
      "Hernandez High School           77.289752              80.934412   \n",
      "Johnson High School             77.072464              80.966394   \n",
      "\n",
      "                       % Passing Math  % Passing Reading  % Overall Passing  \n",
      "school_name                                                                  \n",
      "Rodriguez High School       66.366592          52.988247          52.988247  \n",
      "Figueroa High School        65.988471          53.204476          53.204476  \n",
      "Huang High School           65.683922          53.513884          53.513884  \n",
      "Hernandez High School       66.752967          53.527508          53.527508  \n",
      "Johnson High School         66.057551          53.539172          53.539172  \n"
     ]
    }
   ],
   "source": [
    "# Sort the schools by `% Overall Passing` in ascending order and display the top 5 rows.\n",
    "bottom_schools = per_school_summary.sort_values(\"% Overall Passing\", ascending=True)\n",
    "\n",
    "# Display the top 5 rows\n",
    "print(bottom_schools.head(5))\n"
   ]
  },
  {
   "cell_type": "markdown",
   "metadata": {},
   "source": [
    "## Math Scores by Grade"
   ]
  },
  {
   "cell_type": "code",
   "execution_count": 29,
   "metadata": {},
   "outputs": [
    {
     "name": "stdout",
     "output_type": "stream",
     "text": [
      "                             9th       10th       11th       12th\n",
      "Bailey High School     77.083676  76.996772  77.515588  76.492218\n",
      "Cabrera High School    83.094697  83.154506  82.765560  83.277487\n",
      "Figueroa High School   76.403037  76.539974  76.884344  77.151369\n",
      "Ford High School       77.361345  77.672316  76.918058  76.179963\n",
      "Griffin High School    82.044010  84.229064  83.842105  83.356164\n",
      "Hernandez High School  77.438495  77.337408  77.136029  77.186567\n",
      "Holden High School     83.787402  83.429825  85.000000  82.855422\n",
      "Huang High School      77.027251  75.908735  76.446602  77.225641\n",
      "Johnson High School    77.187857  76.691117  77.491653  76.863248\n",
      "Pena High School       83.625455  83.372000  84.328125  84.121547\n",
      "Rodriguez High School  76.859966  76.612500  76.395626  77.690748\n",
      "Shelton High School    83.420755  82.917411  83.383495  83.778976\n",
      "Thomas High School     83.590022  83.087886  83.498795  83.497041\n",
      "Wilson High School     83.085578  83.724422  83.195326  83.035794\n",
      "Wright High School     83.264706  84.010288  83.836782  83.644986\n"
     ]
    }
   ],
   "source": [
    "ninth_graders = school_data_complete[(school_data_complete[\"grade\"] == \"9th\")]\n",
    "tenth_graders = school_data_complete[(school_data_complete[\"grade\"] == \"10th\")]\n",
    "eleventh_graders = school_data_complete[(school_data_complete[\"grade\"] == \"11th\")]\n",
    "twelfth_graders = school_data_complete[(school_data_complete[\"grade\"] == \"12th\")]\n",
    "\n",
    "\n",
    "ninth_grade_math_scores = ninth_graders.groupby(\"school_name\")[\"math_score\"].mean()\n",
    "tenth_grader_math_scores = tenth_graders.groupby(\"school_name\")[\"math_score\"].mean()\n",
    "eleventh_grader_math_scores = eleventh_graders.groupby(\"school_name\")[\"math_score\"].mean()\n",
    "twelfth_grader_math_scores = twelfth_graders.groupby(\"school_name\")[\"math_score\"].mean()\n",
    "\n",
    "\n",
    "math_scores_by_grade = pd.DataFrame({\n",
    "    \"9th\": ninth_grade_math_scores,\n",
    "    \"10th\": tenth_grader_math_scores,\n",
    "    \"11th\": eleventh_grader_math_scores,\n",
    "    \"12th\": twelfth_grader_math_scores\n",
    "})\n",
    "\n",
    "math_scores_by_grade.index.name = None\n",
    "\n",
    "# Display the DataFrame\n",
    "print(math_scores_by_grade)\n"
   ]
  },
  {
   "cell_type": "markdown",
   "metadata": {},
   "source": [
    "## Reading Score by Grade "
   ]
  },
  {
   "cell_type": "code",
   "execution_count": 30,
   "metadata": {},
   "outputs": [
    {
     "name": "stdout",
     "output_type": "stream",
     "text": [
      "                             9th       10th       11th       12th\n",
      "Bailey High School     77.083676  76.996772  77.515588  76.492218\n",
      "Cabrera High School    83.094697  83.154506  82.765560  83.277487\n",
      "Figueroa High School   76.403037  76.539974  76.884344  77.151369\n",
      "Ford High School       77.361345  77.672316  76.918058  76.179963\n",
      "Griffin High School    82.044010  84.229064  83.842105  83.356164\n",
      "Hernandez High School  77.438495  77.337408  77.136029  77.186567\n",
      "Holden High School     83.787402  83.429825  85.000000  82.855422\n",
      "Huang High School      77.027251  75.908735  76.446602  77.225641\n",
      "Johnson High School    77.187857  76.691117  77.491653  76.863248\n",
      "Pena High School       83.625455  83.372000  84.328125  84.121547\n",
      "Rodriguez High School  76.859966  76.612500  76.395626  77.690748\n",
      "Shelton High School    83.420755  82.917411  83.383495  83.778976\n",
      "Thomas High School     83.590022  83.087886  83.498795  83.497041\n",
      "Wilson High School     83.085578  83.724422  83.195326  83.035794\n",
      "Wright High School     83.264706  84.010288  83.836782  83.644986\n"
     ]
    }
   ],
   "source": [
    "ninth_graders = school_data_complete[(school_data_complete[\"grade\"] == \"9th\")]\n",
    "tenth_graders = school_data_complete[(school_data_complete[\"grade\"] == \"10th\")]\n",
    "eleventh_graders = school_data_complete[(school_data_complete[\"grade\"] == \"11th\")]\n",
    "twelfth_graders = school_data_complete[(school_data_complete[\"grade\"] == \"12th\")]\n",
    "\n",
    "# Group by `school_name` and take the mean of the `math_score` column for each.\n",
    "ninth_grade_math_scores = ninth_graders.groupby(\"school_name\")[\"math_score\"].mean()\n",
    "tenth_grader_math_scores = tenth_graders.groupby(\"school_name\")[\"math_score\"].mean()\n",
    "eleventh_grader_math_scores = eleventh_graders.groupby(\"school_name\")[\"math_score\"].mean()\n",
    "twelfth_grader_math_scores = twelfth_graders.groupby(\"school_name\")[\"math_score\"].mean()\n",
    "\n",
    "# Combine each of the scores above into a single DataFrame called `math_scores_by_grade`\n",
    "math_scores_by_grade = pd.DataFrame({\n",
    "    \"9th\": ninth_grade_math_scores,\n",
    "    \"10th\": tenth_grader_math_scores,\n",
    "    \"11th\": eleventh_grader_math_scores,\n",
    "    \"12th\": twelfth_grader_math_scores\n",
    "})\n",
    "\n",
    "# Minor data wrangling\n",
    "math_scores_by_grade.index.name = None\n",
    "\n",
    "# Display the DataFrame\n",
    "print(math_scores_by_grade)\n"
   ]
  },
  {
   "cell_type": "markdown",
   "metadata": {},
   "source": [
    "## Scores by School Spending"
   ]
  },
  {
   "cell_type": "code",
   "execution_count": 31,
   "metadata": {},
   "outputs": [],
   "source": [
    "# Establish the bins \n",
    "spending_bins = [0, 585, 630, 645, 680]\n",
    "labels = [\"<$585\", \"$585-630\", \"$630-645\", \"$645-680\"]"
   ]
  },
  {
   "cell_type": "code",
   "execution_count": 32,
   "metadata": {},
   "outputs": [],
   "source": [
    " \n",
    "school_spending_df = per_school_summary.copy()"
   ]
  },
  {
   "cell_type": "code",
   "execution_count": 35,
   "metadata": {},
   "outputs": [
    {
     "name": "stdout",
     "output_type": "stream",
     "text": [
      "                       Total Students Total School Budget  Per Student Budget  \\\n",
      "school_name                                                                     \n",
      "Bailey High School               4976       $3,124,928.00               628.0   \n",
      "Cabrera High School              1858       $1,081,356.00               582.0   \n",
      "Figueroa High School             2949       $1,884,411.00               639.0   \n",
      "Ford High School                 2739       $1,763,916.00               644.0   \n",
      "Griffin High School              1468         $917,500.00               625.0   \n",
      "Hernandez High School            4635       $3,022,020.00               652.0   \n",
      "Holden High School                427         $248,087.00               581.0   \n",
      "Huang High School                2917       $1,910,635.00               655.0   \n",
      "Johnson High School              4761       $3,094,650.00               650.0   \n",
      "Pena High School                  962         $585,858.00               609.0   \n",
      "Rodriguez High School            3999       $2,547,363.00               637.0   \n",
      "Shelton High School              1761       $1,056,600.00               600.0   \n",
      "Thomas High School               1635       $1,043,130.00               638.0   \n",
      "Wilson High School               2283       $1,319,574.00               578.0   \n",
      "Wright High School               1800       $1,049,400.00               583.0   \n",
      "\n",
      "                       Average Math Score  Average Reading Score  \\\n",
      "school_name                                                        \n",
      "Bailey High School              77.048432              81.033963   \n",
      "Cabrera High School             83.061895              83.975780   \n",
      "Figueroa High School            76.711767              81.158020   \n",
      "Ford High School                77.102592              80.746258   \n",
      "Griffin High School             83.351499              83.816757   \n",
      "Hernandez High School           77.289752              80.934412   \n",
      "Holden High School              83.803279              83.814988   \n",
      "Huang High School               76.629414              81.182722   \n",
      "Johnson High School             77.072464              80.966394   \n",
      "Pena High School                83.839917              84.044699   \n",
      "Rodriguez High School           76.842711              80.744686   \n",
      "Shelton High School             83.359455              83.725724   \n",
      "Thomas High School              83.418349              83.848930   \n",
      "Wilson High School              83.274201              83.989488   \n",
      "Wright High School              83.682222              83.955000   \n",
      "\n",
      "                       % Passing Math  % Passing Reading  % Overall Passing  \\\n",
      "school_name                                                                   \n",
      "Bailey High School          66.680064          54.642283          54.642283   \n",
      "Cabrera High School         94.133477          91.334769          91.334769   \n",
      "Figueroa High School        65.988471          53.204476          53.204476   \n",
      "Ford High School            68.309602          54.289887          54.289887   \n",
      "Griffin High School         93.392371          90.599455          90.599455   \n",
      "Hernandez High School       66.752967          53.527508          53.527508   \n",
      "Holden High School          92.505855          89.227166          89.227166   \n",
      "Huang High School           65.683922          53.513884          53.513884   \n",
      "Johnson High School         66.057551          53.539172          53.539172   \n",
      "Pena High School            94.594595          90.540541          90.540541   \n",
      "Rodriguez High School       66.366592          52.988247          52.988247   \n",
      "Shelton High School         93.867121          89.892107          89.892107   \n",
      "Thomas High School          93.272171          90.948012          90.948012   \n",
      "Wilson High School          93.867718          90.582567          90.582567   \n",
      "Wright High School          93.333333          90.333333          90.333333   \n",
      "\n",
      "                      Spending Ranges (Per Student)  \n",
      "school_name                                          \n",
      "Bailey High School                         $615-644  \n",
      "Cabrera High School                           <$585  \n",
      "Figueroa High School                       $615-644  \n",
      "Ford High School                           $615-644  \n",
      "Griffin High School                        $615-644  \n",
      "Hernandez High School                      $645-674  \n",
      "Holden High School                            <$585  \n",
      "Huang High School                          $645-674  \n",
      "Johnson High School                        $645-674  \n",
      "Pena High School                           $585-614  \n",
      "Rodriguez High School                      $615-644  \n",
      "Shelton High School                        $585-614  \n",
      "Thomas High School                         $615-644  \n",
      "Wilson High School                            <$585  \n",
      "Wright High School                            <$585  \n"
     ]
    }
   ],
   "source": [
    "\n",
    "school_spending_df[\"Per Student Budget\"] = school_spending_df[\"Per Student Budget\"].replace({'\\$': '', ',': ''}, regex=True).astype(float)\n",
    "\n",
    "\n",
    "spending_bins = [0, 585, 615, 645, 675]\n",
    "spending_labels = [\"<$585\", \"$585-614\", \"$615-644\", \"$645-674\"]\n",
    "\n",
    "\n",
    "school_spending_df[\"Spending Ranges (Per Student)\"] = pd.cut(school_spending_df[\"Per Student Budget\"], bins=spending_bins, labels=spending_labels)\n",
    "\n",
    "# Display the DataFrame\n",
    "print(school_spending_df)\n"
   ]
  },
  {
   "cell_type": "code",
   "execution_count": 36,
   "metadata": {},
   "outputs": [],
   "source": [
    "#  Calculate averages for the desired columns. \n",
    "spending_math_scores = school_spending_df.groupby([\"Spending Ranges (Per Student)\"])[\"Average Math Score\"].mean()\n",
    "spending_reading_scores = school_spending_df.groupby([\"Spending Ranges (Per Student)\"])[\"Average Reading Score\"].mean()\n",
    "spending_passing_math = school_spending_df.groupby([\"Spending Ranges (Per Student)\"])[\"% Passing Math\"].mean()\n",
    "spending_passing_reading = school_spending_df.groupby([\"Spending Ranges (Per Student)\"])[\"% Passing Reading\"].mean()\n",
    "overall_passing_spending = school_spending_df.groupby([\"Spending Ranges (Per Student)\"])[\"% Overall Passing\"].mean()"
   ]
  },
  {
   "cell_type": "code",
   "execution_count": 37,
   "metadata": {},
   "outputs": [
    {
     "name": "stdout",
     "output_type": "stream",
     "text": [
      "                               Average Math Score  Average Reading Score  \\\n",
      "Spending Ranges (Per Student)                                              \n",
      "<$585                                   83.455399              83.933814   \n",
      "$585-614                                83.599686              83.885211   \n",
      "$615-644                                79.079225              81.891436   \n",
      "$645-674                                76.997210              81.027843   \n",
      "\n",
      "                               % Passing Math  % Passing Reading  \\\n",
      "Spending Ranges (Per Student)                                      \n",
      "<$585                               93.460096          90.369459   \n",
      "$585-614                            94.230858          90.216324   \n",
      "$615-644                            75.668212          66.112060   \n",
      "$645-674                            66.164813          53.526855   \n",
      "\n",
      "                               % Overall Passing  \n",
      "Spending Ranges (Per Student)                     \n",
      "<$585                                  90.369459  \n",
      "$585-614                               90.216324  \n",
      "$615-644                               66.112060  \n",
      "$645-674                               53.526855  \n"
     ]
    }
   ],
   "source": [
    "spending_summary = school_spending_df.groupby(\"Spending Ranges (Per Student)\").agg({\n",
    "    \"Average Math Score\": \"mean\",\n",
    "    \"Average Reading Score\": \"mean\",\n",
    "    \"% Passing Math\": \"mean\",\n",
    "    \"% Passing Reading\": \"mean\",\n",
    "    \"% Overall Passing\": \"mean\"\n",
    "})\n",
    "\n",
    "# Display results\n",
    "print(spending_summary)\n"
   ]
  },
  {
   "cell_type": "markdown",
   "metadata": {},
   "source": [
    "## Scores by School Size"
   ]
  },
  {
   "cell_type": "code",
   "execution_count": 40,
   "metadata": {},
   "outputs": [],
   "source": [
    "# Establish the bins.\n",
    "size_bins = [0, 1000, 2000, 5000]\n",
    "labels = [\"Small (<1000)\", \"Medium (1000-2000)\", \"Large (2000-5000)\"]"
   ]
  },
  {
   "cell_type": "code",
   "execution_count": 41,
   "metadata": {},
   "outputs": [
    {
     "name": "stdout",
     "output_type": "stream",
     "text": [
      "                       Total Students Total School Budget Per Student Budget  \\\n",
      "school_name                                                                    \n",
      "Bailey High School               4976       $3,124,928.00            $628.00   \n",
      "Cabrera High School              1858       $1,081,356.00            $582.00   \n",
      "Figueroa High School             2949       $1,884,411.00            $639.00   \n",
      "Ford High School                 2739       $1,763,916.00            $644.00   \n",
      "Griffin High School              1468         $917,500.00            $625.00   \n",
      "Hernandez High School            4635       $3,022,020.00            $652.00   \n",
      "Holden High School                427         $248,087.00            $581.00   \n",
      "Huang High School                2917       $1,910,635.00            $655.00   \n",
      "Johnson High School              4761       $3,094,650.00            $650.00   \n",
      "Pena High School                  962         $585,858.00            $609.00   \n",
      "Rodriguez High School            3999       $2,547,363.00            $637.00   \n",
      "Shelton High School              1761       $1,056,600.00            $600.00   \n",
      "Thomas High School               1635       $1,043,130.00            $638.00   \n",
      "Wilson High School               2283       $1,319,574.00            $578.00   \n",
      "Wright High School               1800       $1,049,400.00            $583.00   \n",
      "\n",
      "                       Average Math Score  Average Reading Score  \\\n",
      "school_name                                                        \n",
      "Bailey High School              77.048432              81.033963   \n",
      "Cabrera High School             83.061895              83.975780   \n",
      "Figueroa High School            76.711767              81.158020   \n",
      "Ford High School                77.102592              80.746258   \n",
      "Griffin High School             83.351499              83.816757   \n",
      "Hernandez High School           77.289752              80.934412   \n",
      "Holden High School              83.803279              83.814988   \n",
      "Huang High School               76.629414              81.182722   \n",
      "Johnson High School             77.072464              80.966394   \n",
      "Pena High School                83.839917              84.044699   \n",
      "Rodriguez High School           76.842711              80.744686   \n",
      "Shelton High School             83.359455              83.725724   \n",
      "Thomas High School              83.418349              83.848930   \n",
      "Wilson High School              83.274201              83.989488   \n",
      "Wright High School              83.682222              83.955000   \n",
      "\n",
      "                       % Passing Math  % Passing Reading  % Overall Passing  \\\n",
      "school_name                                                                   \n",
      "Bailey High School          66.680064          54.642283          54.642283   \n",
      "Cabrera High School         94.133477          91.334769          91.334769   \n",
      "Figueroa High School        65.988471          53.204476          53.204476   \n",
      "Ford High School            68.309602          54.289887          54.289887   \n",
      "Griffin High School         93.392371          90.599455          90.599455   \n",
      "Hernandez High School       66.752967          53.527508          53.527508   \n",
      "Holden High School          92.505855          89.227166          89.227166   \n",
      "Huang High School           65.683922          53.513884          53.513884   \n",
      "Johnson High School         66.057551          53.539172          53.539172   \n",
      "Pena High School            94.594595          90.540541          90.540541   \n",
      "Rodriguez High School       66.366592          52.988247          52.988247   \n",
      "Shelton High School         93.867121          89.892107          89.892107   \n",
      "Thomas High School          93.272171          90.948012          90.948012   \n",
      "Wilson High School          93.867718          90.582567          90.582567   \n",
      "Wright High School          93.333333          90.333333          90.333333   \n",
      "\n",
      "                              School Size  \n",
      "school_name                                \n",
      "Bailey High School      Large (2000-5000)  \n",
      "Cabrera High School    Medium (1000-2000)  \n",
      "Figueroa High School    Large (2000-5000)  \n",
      "Ford High School        Large (2000-5000)  \n",
      "Griffin High School    Medium (1000-2000)  \n",
      "Hernandez High School   Large (2000-5000)  \n",
      "Holden High School          Small (<1000)  \n",
      "Huang High School       Large (2000-5000)  \n",
      "Johnson High School     Large (2000-5000)  \n",
      "Pena High School            Small (<1000)  \n",
      "Rodriguez High School   Large (2000-5000)  \n",
      "Shelton High School    Medium (1000-2000)  \n",
      "Thomas High School     Medium (1000-2000)  \n",
      "Wilson High School      Large (2000-5000)  \n",
      "Wright High School     Medium (1000-2000)  \n"
     ]
    }
   ],
   "source": [
    "size_bins = [0, 1000, 2000, 5000]\n",
    "size_labels = [\"Small (<1000)\", \"Medium (1000-2000)\", \"Large (2000-5000)\"]\n",
    "\n",
    "# Use pd.cut to categorize schools based on the \"Total Students\" column\n",
    "per_school_summary[\"School Size\"] = pd.cut(per_school_summary[\"Total Students\"], bins=size_bins, labels=size_labels)\n",
    "\n",
    "# Display the DataFrame with the \"School Size\" column added\n",
    "print(per_school_summary)"
   ]
  },
  {
   "cell_type": "code",
   "execution_count": 43,
   "metadata": {},
   "outputs": [
    {
     "name": "stdout",
     "output_type": "stream",
     "text": [
      "                    Average Math Score  Average Reading Score  % Passing Math  \\\n",
      "School Size                                                                     \n",
      "Small (<1000)                83.821598              83.929843       93.550225   \n",
      "Medium (1000-2000)           83.374684              83.864438       93.599695   \n",
      "Large (2000-5000)            77.746417              81.344493       69.963361   \n",
      "\n",
      "                    % Passing Reading  % Overall Passing  \n",
      "School Size                                               \n",
      "Small (<1000)               89.883853          89.883853  \n",
      "Medium (1000-2000)          90.621535          90.621535  \n",
      "Large (2000-5000)           58.286003          58.286003  \n"
     ]
    }
   ],
   "source": [
    "# Calculate averages for the desired columns.\n",
    "size_math_scores = per_school_summary.groupby([\"School Size\"])[\"Average Math Score\"].mean()\n",
    "size_reading_scores = per_school_summary.groupby([\"School Size\"])[\"Average Reading Score\"].mean()\n",
    "size_passing_math = per_school_summary.groupby([\"School Size\"])[\"% Passing Math\"].mean()\n",
    "size_passing_reading = per_school_summary.groupby([\"School Size\"])[\"% Passing Reading\"].mean()\n",
    "size_overall_passing = per_school_summary.groupby([\"School Size\"])[\"% Overall Passing\"].mean()\n",
    "\n",
    "# Create the size_summary DataFrame\n",
    "size_summary = pd.DataFrame({\n",
    "    \"Average Math Score\": size_math_scores,\n",
    "    \"Average Reading Score\": size_reading_scores,\n",
    "    \"% Passing Math\": size_passing_math,\n",
    "    \"% Passing Reading\": size_passing_reading,\n",
    "    \"% Overall Passing\": size_overall_passing\n",
    "})\n",
    "\n",
    "# Display the size_summary DataFrame\n",
    "print(size_summary)\n",
    "\n"
   ]
  },
  {
   "cell_type": "markdown",
   "metadata": {},
   "source": [
    "## Scores by School Type"
   ]
  },
  {
   "cell_type": "code",
   "execution_count": null,
   "metadata": {},
   "outputs": [],
   "source": [
    "average_math_score_by_type = per_school_summary.groupby([\"School Type\"])[\"Average Math Score\"].mean()\n",
    "average_reading_score_by_type = per_school_summary.groupby([\"School Type\"])[\"Average Reading Score\"].mean()\n",
    "average_percent_passing_math_by_type = per_school_summary.groupby([\"School Type\"])[\"% Passing Math\"].mean()\n",
    "average_percent_passing_reading_by_type = per_school_summary.groupby([\"School Type\"])[\"% Passing Reading\"].mean()\n",
    "average_percent_overall_passing_by_type = per_school_summary.groupby([\"School Type\"])[\"% Overall Passing\"].mean()"
   ]
  },
  {
   "cell_type": "code",
   "execution_count": null,
   "metadata": {},
   "outputs": [],
   "source": [
    "# Assemble the new data by type into a DataFrame called `type_summary`\n",
    "type_summary = \n",
    "\n",
    "# Display results\n",
    "type_summary"
   ]
  }
 ],
 "metadata": {
  "anaconda-cloud": {},
  "kernel_info": {
   "name": "python3"
  },
  "kernelspec": {
   "display_name": "Python 3 (ipykernel)",
   "language": "python",
   "name": "python3"
  },
  "language_info": {
   "codemirror_mode": {
    "name": "ipython",
    "version": 3
   },
   "file_extension": ".py",
   "mimetype": "text/x-python",
   "name": "python",
   "nbconvert_exporter": "python",
   "pygments_lexer": "ipython3",
   "version": "3.10.9"
  },
  "latex_envs": {
   "LaTeX_envs_menu_present": true,
   "autoclose": false,
   "autocomplete": true,
   "bibliofile": "biblio.bib",
   "cite_by": "apalike",
   "current_citInitial": 1,
   "eqLabelWithNumbers": true,
   "eqNumInitial": 1,
   "hotkeys": {
    "equation": "Ctrl-E",
    "itemize": "Ctrl-I"
   },
   "labels_anchors": false,
   "latex_user_defs": false,
   "report_style_numbering": false,
   "user_envs_cfg": false
  },
  "nteract": {
   "version": "0.8.4"
  },
  "vscode": {
   "interpreter": {
    "hash": "5384d77d82de63fd599f73e77f9ec786e7719288bf80a29ec0288c670ac3cf32"
   }
  }
 },
 "nbformat": 4,
 "nbformat_minor": 4
}
